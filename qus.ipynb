{
 "cells": [
  {
   "cell_type": "code",
   "execution_count": 1,
   "id": "f200427f-34ea-46ce-b944-d83828cc6c2f",
   "metadata": {
    "tags": []
   },
   "outputs": [
    {
     "ename": "ModuleNotFoundError",
     "evalue": "No module named 'langchain'",
     "output_type": "error",
     "traceback": [
      "\u001b[0;31m---------------------------------------------------------------------------\u001b[0m",
      "\u001b[0;31mModuleNotFoundError\u001b[0m                       Traceback (most recent call last)",
      "Cell \u001b[0;32mIn[1], line 14\u001b[0m\n\u001b[1;32m      4\u001b[0m \u001b[38;5;28;01mfrom\u001b[39;00m \u001b[38;5;21;01mtransformers\u001b[39;00m \u001b[38;5;28;01mimport\u001b[39;00m (\n\u001b[1;32m      5\u001b[0m     AutoModelForCausalLM,\n\u001b[1;32m      6\u001b[0m     AutoTokenizer,\n\u001b[0;32m   (...)\u001b[0m\n\u001b[1;32m     11\u001b[0m     logging,\n\u001b[1;32m     12\u001b[0m )\n\u001b[1;32m     13\u001b[0m \u001b[38;5;28;01mfrom\u001b[39;00m \u001b[38;5;21;01mpeft\u001b[39;00m \u001b[38;5;28;01mimport\u001b[39;00m  get_peft_model\n\u001b[0;32m---> 14\u001b[0m \u001b[38;5;28;01mfrom\u001b[39;00m \u001b[38;5;21;01mlangchain\u001b[39;00m\u001b[38;5;21;01m.\u001b[39;00m\u001b[38;5;21;01mprompts\u001b[39;00m \u001b[38;5;28;01mimport\u001b[39;00m PromptTemplate\n\u001b[1;32m     15\u001b[0m \u001b[38;5;28;01mfrom\u001b[39;00m \u001b[38;5;21;01mpeft\u001b[39;00m \u001b[38;5;28;01mimport\u001b[39;00m LoraConfig, PeftModel\n\u001b[1;32m     16\u001b[0m \u001b[38;5;28;01mfrom\u001b[39;00m \u001b[38;5;21;01mtrl\u001b[39;00m \u001b[38;5;28;01mimport\u001b[39;00m SFTTrainer\n",
      "\u001b[0;31mModuleNotFoundError\u001b[0m: No module named 'langchain'"
     ]
    }
   ],
   "source": [
    "import os\n",
    "import torch\n",
    "from datasets import load_dataset\n",
    "from transformers import (\n",
    "    AutoModelForCausalLM,\n",
    "    AutoTokenizer,\n",
    "    BitsAndBytesConfig,\n",
    "    HfArgumentParser,\n",
    "    TrainingArguments,\n",
    "    pipeline,\n",
    "    logging,\n",
    ")\n",
    "from peft import  get_peft_model\n",
    "from langchain.prompts import PromptTemplate\n",
    "from peft import LoraConfig, PeftModel\n",
    "from trl import SFTTrainer\n",
    "from IPython.display import Markdown, display"
   ]
  },
  {
   "cell_type": "code",
   "execution_count": 35,
   "id": "283c9012-1b55-498b-a5e3-9f248821d739",
   "metadata": {
    "tags": []
   },
   "outputs": [],
   "source": [
    "### 微调后的模型名\n",
    "\n",
    "new_model = \"/root/autodl-tmp/llama-2-7b-correct—question\"\n",
    "model_name = \"/root/autodl-tmp/Llama-2-7b-chat-hf\" "
   ]
  },
  {
   "cell_type": "code",
   "execution_count": 40,
   "id": "df75ee35-90d9-4098-883f-0bfcdcac16c8",
   "metadata": {
    "tags": []
   },
   "outputs": [],
   "source": [
    "def format_text(example):\n",
    "    \"\"\" fill inputs in promt for a sample  \"\"\"\n",
    "    example = example['text']\n",
    "    example = eval(example)\n",
    "    options = {}\n",
    "    option = []\n",
    "    for j in range(len(example['options'])):\n",
    "        option = []\n",
    "        i = example['options'][j]\n",
    "        for t in range(len(i)):\n",
    "            s = chr(ord('A') + t) + '.' + i[t]\n",
    "            option.append(s)\n",
    "        options['question'+str(j+1)] = option\n",
    "    questions = {}\n",
    "    answers = []\n",
    "    for i in range(len(example['answers'])):\n",
    "        s = ord(example['answers'][i]) - ord('A')\n",
    "        answers.append(options['question'+str(i+1)][s])\n",
    "    for j in range(len(example['questions'])):\n",
    "        questions[j+1] = 'question:'+example['questions'][j]+'\\n'+'options:'+ str(options['question'+str(j+1)])\n",
    "    text = prompt.format(instruction='Answer the questions according to the article and the options.',\n",
    "                         input='Article:'+example['article']+'\\n\\n' +'Questions:' + str(questions) + '\\n',\n",
    "                         output=str(answers))\n",
    "    return {'text':text}\n"
   ]
  },
  {
   "cell_type": "code",
   "execution_count": null,
   "id": "b0f665d5-22be-487e-a212-d60f3c59ca08",
   "metadata": {
    "tags": []
   },
   "outputs": [],
   "source": []
  },
  {
   "cell_type": "code",
   "execution_count": 14,
   "id": "6de85e3a-2deb-4097-9172-0be314ae6640",
   "metadata": {
    "tags": []
   },
   "outputs": [
    {
     "data": {
      "application/vnd.jupyter.widget-view+json": {
       "model_id": "64206e0c90704408adfafbbd43be4070",
       "version_major": 2,
       "version_minor": 0
      },
      "text/plain": [
       "Resolving data files:   0%|          | 0/19366 [00:00<?, ?it/s]"
      ]
     },
     "metadata": {},
     "output_type": "display_data"
    },
    {
     "data": {
      "application/vnd.jupyter.widget-view+json": {
       "model_id": "f74d6b114ba74fc89e90b21039b19480",
       "version_major": 2,
       "version_minor": 0
      },
      "text/plain": [
       "Resolving data files:   0%|          | 0/1389 [00:00<?, ?it/s]"
      ]
     },
     "metadata": {},
     "output_type": "display_data"
    },
    {
     "data": {
      "application/vnd.jupyter.widget-view+json": {
       "model_id": "cf80c40e24a24b78aa01c15623cdafdd",
       "version_major": 2,
       "version_minor": 0
      },
      "text/plain": [
       "Resolving data files:   0%|          | 0/1407 [00:00<?, ?it/s]"
      ]
     },
     "metadata": {},
     "output_type": "display_data"
    }
   ],
   "source": [
    "dataset = load_dataset(path=\"text\",data_dir='/root/autodl-tmp/race', split=['train', 'test'])"
   ]
  },
  {
   "cell_type": "code",
   "execution_count": 42,
   "id": "cfcf13c8-3c94-4b52-b1bd-e84a960456cc",
   "metadata": {
    "tags": []
   },
   "outputs": [
    {
     "data": {
      "text/plain": [
       "{'text': '{\"answers\": [\"A\", \"C\", \"D\", \"B\", \"C\", \"D\"], \"options\": [[\"his daughter was just born\", \"he was thirteen years old\", \"his mother died of cancer\", \"his wife was out of work\"], [\"was once saved by his lovely guide dog\", \"is taken good care of by the government\", \"thinks it\\'s natural to have setbacks in life\", \"believes it takes a little longer to do things\"], [\"the effective traffic system\", \"the kindness of New Yorkers\", \"the loyalty of his guide dog\", \"his will to overcome difficulty\"], [\"Sympathy counts most.\", \"Ability comes first.\", \"Preference for the blind.\", \"Easy job for the weak.\"], [\"make plenty of money\", \"win his supervisor\\'s trust\", \"live like a normal person\", \"complete his daily task\"], [\"deep thinking\", \"weak motivation\", \"special talents\", \"great independence\"]], \"questions\": [\"Mr. Torres became blind when  _  .\", \"Mr. Torres does not feel sorry for himselfbecause he   _  .\", \"The description of Mr. Torres\\'s long trip to work shows   _  .\", \"What is the principle of the hospital in employing a worker?\", \"Mr. Torres works very hard in order to   _  .\", \"In the eyes of the writer, Alberto Torres is a man of   _  .\"], \"article\": \"You could feel sorry for Alberto Torres, who is blind. The last thing he remembers seeing was his daughter being born 13 years ago. Then the world went blank; he can only imagine what his only child looks like now, as a teenaged honor student. Bad luck is no stranger to this warm and thoughtful 37-year-old man. His mother died of cancer when he was 4, and his father, who was often ill, had to give him up to the care of the state when he was 11. He later worked for 19 years in a workshop making household goods, deathly boring work. Earlier this month, Alberto Torres\\'s wife, who had just been laid off from her job, had to have a breast removed due to cancer and now faces a year of radiation treatments. Things seemed always to go from almost incredibly bad to worse. Even Mr. Torres\\'s good luck has a dark side: Five years ago, his lovely guide dog pulled him out of the path of a truck. Mr. Torres was not hurt. The dog was killed.\\\\nBut Mr. Torres does not feel sorry for himself. \\\\\"These are just little bumps you have to go over in your life,\\\\\" he said. At 5 a.m. on a recent morning, we caught up with Mr. Torres at a subway stop in Brooklyn, New York, near where he lives in a third-floor apartment (with no elevator). He had been up since 3 a.m., feeding his new dog, making coffee, getting ready. \\\\\"When you\\'re blind, it takes a little longer to do things,\\\\\" he said.\\\\nMr. Torres was beginning his two-hour trip to his job developing film in the X-ray department of the emergency room of the Bronx hospital. He would take the G train to Queens Plaza station to the R train, heading towards Manhattan. He would then ride the R train to 59th Street where he would walk upstairs to switch to the Number 6 train. At one point along the journey, he might chat with a stranger. At another, someone would pat his dog, calling him by name. People offered assistance, even seats. At 125th Street, Mr. Torres would transfer to the Number 4 train by crossing the platform. At 149th Street, he would go down to the Number 2. He would take that to East 180th Street where he nearly always has a long wait for his final train, to Pelham Parkway. Then he and his dog would walk 20 minutes to the hospital.\\\\nIt was a hard job to come by. Before he got the job, Mr. Torres was determined to escape the workshop run by an organization dedicated to help people who can\\'t see. He wanted a job developing X-ray film, something that everyone must do in the dark. He had to handle the long trip, as well as the work. \\\\\"Our philosophy here is that blind people can do just about anything except drive buses,\\\\\" it was the thinking about disabled people at the Bronx hospital. \\\\\"We find what a person can do rather than what he can\\'t do,\\\\\" said the hospital\\'s director.\\\\nOne day a while ago marked the first anniversary of Mr. Torres\\'s hiring. He developed 150 or so X-rays, his usual output, to celebrate. Mr. Torres works by himself in a small, dark room that smells of chemicals. He cannot wear gloves, because he needs to feel. It is hard work, related to emergency of lives. His immediate supervisor says he trusts him 100%. Mr. Torres makes $20,000 a year. But his motivation goes beyond money. \\\\\"If I start feeling like a victim, that makes me bitter. And why be bitter? That makes you go into a hole and stay there.\\\\\" he said. \\\\\"I\\'m not doing anything out of the ordinary,\\\\\" insisted Mr. Torres as he quickly completed the task.\", \"id\": \"high10002.txt\"}'}"
      ]
     },
     "execution_count": 42,
     "metadata": {},
     "output_type": "execute_result"
    }
   ],
   "source": [
    "dataset[1][1]"
   ]
  },
  {
   "cell_type": "code",
   "execution_count": 27,
   "id": "7a75fce2-d13b-4372-b34c-5cc3cda6c16f",
   "metadata": {
    "tags": []
   },
   "outputs": [
    {
     "data": {
      "application/vnd.jupyter.widget-view+json": {
       "model_id": "15ada629192f466dbac0f7de85622f26",
       "version_major": 2,
       "version_minor": 0
      },
      "text/plain": [
       "Map:   0%|          | 0/1407 [00:00<?, ? examples/s]"
      ]
     },
     "metadata": {},
     "output_type": "display_data"
    },
    {
     "data": {
      "text/plain": [
       "{'text': '\\nInstruction: Answer the questions according to the article and the options.\\n\\nInput: Article:You could feel sorry for Alberto Torres, who is blind. The last thing he remembers seeing was his daughter being born 13 years ago. Then the world went blank; he can only imagine what his only child looks like now, as a teenaged honor student. Bad luck is no stranger to this warm and thoughtful 37-year-old man. His mother died of cancer when he was 4, and his father, who was often ill, had to give him up to the care of the state when he was 11. He later worked for 19 years in a workshop making household goods, deathly boring work. Earlier this month, Alberto Torres\\'s wife, who had just been laid off from her job, had to have a breast removed due to cancer and now faces a year of radiation treatments. Things seemed always to go from almost incredibly bad to worse. Even Mr. Torres\\'s good luck has a dark side: Five years ago, his lovely guide dog pulled him out of the path of a truck. Mr. Torres was not hurt. The dog was killed.\\nBut Mr. Torres does not feel sorry for himself. \"These are just little bumps you have to go over in your life,\" he said. At 5 a.m. on a recent morning, we caught up with Mr. Torres at a subway stop in Brooklyn, New York, near where he lives in a third-floor apartment (with no elevator). He had been up since 3 a.m., feeding his new dog, making coffee, getting ready. \"When you\\'re blind, it takes a little longer to do things,\" he said.\\nMr. Torres was beginning his two-hour trip to his job developing film in the X-ray department of the emergency room of the Bronx hospital. He would take the G train to Queens Plaza station to the R train, heading towards Manhattan. He would then ride the R train to 59th Street where he would walk upstairs to switch to the Number 6 train. At one point along the journey, he might chat with a stranger. At another, someone would pat his dog, calling him by name. People offered assistance, even seats. At 125th Street, Mr. Torres would transfer to the Number 4 train by crossing the platform. At 149th Street, he would go down to the Number 2. He would take that to East 180th Street where he nearly always has a long wait for his final train, to Pelham Parkway. Then he and his dog would walk 20 minutes to the hospital.\\nIt was a hard job to come by. Before he got the job, Mr. Torres was determined to escape the workshop run by an organization dedicated to help people who can\\'t see. He wanted a job developing X-ray film, something that everyone must do in the dark. He had to handle the long trip, as well as the work. \"Our philosophy here is that blind people can do just about anything except drive buses,\" it was the thinking about disabled people at the Bronx hospital. \"We find what a person can do rather than what he can\\'t do,\" said the hospital\\'s director.\\nOne day a while ago marked the first anniversary of Mr. Torres\\'s hiring. He developed 150 or so X-rays, his usual output, to celebrate. Mr. Torres works by himself in a small, dark room that smells of chemicals. He cannot wear gloves, because he needs to feel. It is hard work, related to emergency of lives. His immediate supervisor says he trusts him 100%. Mr. Torres makes $20,000 a year. But his motivation goes beyond money. \"If I start feeling like a victim, that makes me bitter. And why be bitter? That makes you go into a hole and stay there.\" he said. \"I\\'m not doing anything out of the ordinary,\" insisted Mr. Torres as he quickly completed the task.\\n\\nQuestions:{1: \"question:Mr. Torres became blind when  _  .\\\\noptions:[\\'A.his daughter was just born\\', \\'B.he was thirteen years old\\', \\'C.his mother died of cancer\\', \\'D.his wife was out of work\\']\", 2: \\'question:Mr. Torres does not feel sorry for himselfbecause he   _  .\\\\noptions:[\\\\\\'A.was once saved by his lovely guide dog\\\\\\', \\\\\\'B.is taken good care of by the government\\\\\\', \"C.thinks it\\\\\\'s natural to have setbacks in life\", \\\\\\'D.believes it takes a little longer to do things\\\\\\']\\', 3: \"question:The description of Mr. Torres\\'s long trip to work shows   _  .\\\\noptions:[\\'A.the effective traffic system\\', \\'B.the kindness of New Yorkers\\', \\'C.the loyalty of his guide dog\\', \\'D.his will to overcome difficulty\\']\", 4: \"question:What is the principle of the hospital in employing a worker?\\\\noptions:[\\'A.Sympathy counts most.\\', \\'B.Ability comes first.\\', \\'C.Preference for the blind.\\', \\'D.Easy job for the weak.\\']\", 5: \\'question:Mr. Torres works very hard in order to   _  .\\\\noptions:[\\\\\\'A.make plenty of money\\\\\\', \"B.win his supervisor\\\\\\'s trust\", \\\\\\'C.live like a normal person\\\\\\', \\\\\\'D.complete his daily task\\\\\\']\\', 6: \"question:In the eyes of the writer, Alberto Torres is a man of   _  .\\\\noptions:[\\'A.deep thinking\\', \\'B.weak motivation\\', \\'C.special talents\\', \\'D.great independence\\']\"}\\n\\n\\nOutput: [\\'A.his daughter was just born\\', \"C.thinks it\\'s natural to have setbacks in life\", \\'D.his will to overcome difficulty\\', \\'B.Ability comes first.\\', \\'C.live like a normal person\\', \\'D.great independence\\']<\\\\s>'}"
      ]
     },
     "execution_count": 27,
     "metadata": {},
     "output_type": "execute_result"
    }
   ],
   "source": [
    "train_dataset = dataset[1].map(format_text)\n",
    "train_dataset[1]"
   ]
  },
  {
   "cell_type": "code",
   "execution_count": 17,
   "id": "cff68245-790a-42c9-949b-5f23344dabde",
   "metadata": {
    "tags": []
   },
   "outputs": [
    {
     "data": {
      "text/plain": [
       "PromptTemplate(input_variables=['instruction', 'input', 'output'], output_parser=None, partial_variables={}, template='\\nInstruction: {instruction}\\n\\nInput: {input}\\n\\nOutput: {output}<\\\\s>', template_format='f-string', validate_template=True)"
      ]
     },
     "execution_count": 17,
     "metadata": {},
     "output_type": "execute_result"
    }
   ],
   "source": [
    "# prepare template \n",
    "template = \"\"\"\n",
    "Instruction: {instruction}\\n\n",
    "Input: {input}\\n\n",
    "Output: {output}<\\s>\"\"\"\n",
    "\n",
    "\n",
    "prompt = PromptTemplate(template=template, input_variables=['instruction', 'input','output'])\n",
    "prompt"
   ]
  },
  {
   "cell_type": "code",
   "execution_count": null,
   "id": "77e64fbd-d50c-465f-b57f-288a2838e32a",
   "metadata": {
    "tags": []
   },
   "outputs": [],
   "source": []
  },
  {
   "cell_type": "code",
   "execution_count": 28,
   "id": "1ee8cf22-2417-49f1-a6d4-05ac66484ff6",
   "metadata": {
    "tags": []
   },
   "outputs": [],
   "source": [
    "# Load tokenizer and model with QLoRA configuration\n",
    "compute_dtype = getattr(torch, \"float16\")\n",
    "\n",
    "bnb_config = BitsAndBytesConfig(\n",
    "    load_in_4bit=True,\n",
    "    bnb_4bit_quant_type=\"nf4\",\n",
    "    bnb_4bit_compute_dtype=compute_dtype,\n",
    "    bnb_4bit_use_double_quant=False,\n",
    ")"
   ]
  },
  {
   "cell_type": "code",
   "execution_count": 29,
   "id": "d2754edf-3017-4223-a96e-8a82580d5648",
   "metadata": {
    "tags": []
   },
   "outputs": [],
   "source": [
    "lora_config = LoraConfig.from_pretrained('/root/autodl-tmp/llama-2-7b-correct/')"
   ]
  },
  {
   "cell_type": "code",
   "execution_count": 30,
   "id": "48887a77-cbb7-44c0-9d43-b3156a9ad57f",
   "metadata": {
    "tags": []
   },
   "outputs": [],
   "source": [
    "# Set training parameters\n",
    "training_arguments = TrainingArguments(\n",
    "    output_dir=\"results_Correct_questions\",\n",
    "    num_train_epochs=2,\n",
    "    per_device_train_batch_size=8,\n",
    "    gradient_accumulation_steps=1,\n",
    "    optim=\"paged_adamw_32bit\",\n",
    "    save_steps=25,\n",
    "    logging_steps=25,\n",
    "    learning_rate=2e-4,\n",
    "    weight_decay=0.001,\n",
    "    fp16=False,\n",
    "    bf16=False,\n",
    "    max_grad_norm=0.3,\n",
    "    max_steps=-1,\n",
    "    warmup_ratio=0.03,\n",
    "    group_by_length=True,\n",
    "    lr_scheduler_type=\"constant\",\n",
    "    report_to=\"tensorboard\"\n",
    ")"
   ]
  },
  {
   "cell_type": "code",
   "execution_count": 31,
   "id": "cfe5b987-adef-4c4e-8225-411570873d79",
   "metadata": {
    "tags": []
   },
   "outputs": [
    {
     "data": {
      "application/vnd.jupyter.widget-view+json": {
       "model_id": "a72d3b54d9af4a4b8f98fc3372416f88",
       "version_major": 2,
       "version_minor": 0
      },
      "text/plain": [
       "Loading checkpoint shards:   0%|          | 0/2 [00:00<?, ?it/s]"
      ]
     },
     "metadata": {},
     "output_type": "display_data"
    }
   ],
   "source": [
    "# Load base model\n",
    "model = AutoModelForCausalLM.from_pretrained(\n",
    "    model_name,\n",
    "    quantization_config=bnb_config,\n",
    "    device_map={\"\": 0}\n",
    ")\n",
    "model.config.use_cache = False\n",
    "model.config.pretraining_tp = 1"
   ]
  },
  {
   "cell_type": "code",
   "execution_count": 8,
   "id": "252ba28c-962c-4a81-8f76-bf49e6a67792",
   "metadata": {
    "tags": []
   },
   "outputs": [],
   "source": [
    "# Load LLaMA tokenizer\n",
    "tokenizer = AutoTokenizer.from_pretrained(model_name, trust_remote_code=True)\n",
    "tokenizer.pad_token = tokenizer.eos_token\n",
    "tokenizer.padding_side = \"right\""
   ]
  },
  {
   "cell_type": "code",
   "execution_count": 32,
   "id": "46e42698-b2d8-4c7d-a638-cada817c2212",
   "metadata": {
    "tags": []
   },
   "outputs": [
    {
     "name": "stderr",
     "output_type": "stream",
     "text": [
      "/root/miniconda3/lib/python3.8/site-packages/peft/utils/other.py:102: FutureWarning: prepare_model_for_int8_training is deprecated and will be removed in a future version. Use prepare_model_for_kbit_training instead.\n",
      "  warnings.warn(\n",
      "/root/miniconda3/lib/python3.8/site-packages/trl/trainer/sft_trainer.py:159: UserWarning: You didn't pass a `max_seq_length` argument to the SFTTrainer, this will default to 1024\n",
      "  warnings.warn(\n"
     ]
    },
    {
     "data": {
      "application/vnd.jupyter.widget-view+json": {
       "model_id": "22ff2b30b3654c838b137050ca6947b4",
       "version_major": 2,
       "version_minor": 0
      },
      "text/plain": [
       "Map:   0%|          | 0/1407 [00:00<?, ? examples/s]"
      ]
     },
     "metadata": {},
     "output_type": "display_data"
    },
    {
     "name": "stderr",
     "output_type": "stream",
     "text": [
      "Detected kernel version 5.4.0, which is below the recommended minimum of 5.5.0; this can cause the process to hang. It is recommended to upgrade the kernel to the minimum version or higher.\n"
     ]
    }
   ],
   "source": [
    "# Set supervised fine-tuning parameters\n",
    "trainer = SFTTrainer(\n",
    "    model=model,\n",
    "    train_dataset=train_dataset,\n",
    "    peft_config=lora_config,\n",
    "    dataset_text_field=\"text\",\n",
    "    max_seq_length=None,\n",
    "    tokenizer=tokenizer,\n",
    "    args=training_arguments,\n",
    "    packing=False,\n",
    ")"
   ]
  },
  {
   "cell_type": "code",
   "execution_count": 33,
   "id": "bc3edc38-fbbb-4b6b-bea6-c9e5a88691f4",
   "metadata": {
    "tags": []
   },
   "outputs": [
    {
     "name": "stderr",
     "output_type": "stream",
     "text": [
      "You're using a LlamaTokenizerFast tokenizer. Please note that with a fast tokenizer, using the `__call__` method is faster than using a method to encode the text followed by a call to the `pad` method to get a padded encoding.\n"
     ]
    },
    {
     "data": {
      "text/html": [
       "\n",
       "    <div>\n",
       "      \n",
       "      <progress value='352' max='352' style='width:300px; height:20px; vertical-align: middle;'></progress>\n",
       "      [352/352 34:56, Epoch 2/2]\n",
       "    </div>\n",
       "    <table border=\"1\" class=\"dataframe\">\n",
       "  <thead>\n",
       " <tr style=\"text-align: left;\">\n",
       "      <th>Step</th>\n",
       "      <th>Training Loss</th>\n",
       "    </tr>\n",
       "  </thead>\n",
       "  <tbody>\n",
       "    <tr>\n",
       "      <td>25</td>\n",
       "      <td>2.271700</td>\n",
       "    </tr>\n",
       "    <tr>\n",
       "      <td>50</td>\n",
       "      <td>2.299500</td>\n",
       "    </tr>\n",
       "    <tr>\n",
       "      <td>75</td>\n",
       "      <td>2.320500</td>\n",
       "    </tr>\n",
       "    <tr>\n",
       "      <td>100</td>\n",
       "      <td>2.323600</td>\n",
       "    </tr>\n",
       "    <tr>\n",
       "      <td>125</td>\n",
       "      <td>2.324100</td>\n",
       "    </tr>\n",
       "    <tr>\n",
       "      <td>150</td>\n",
       "      <td>2.247200</td>\n",
       "    </tr>\n",
       "    <tr>\n",
       "      <td>175</td>\n",
       "      <td>2.319000</td>\n",
       "    </tr>\n",
       "    <tr>\n",
       "      <td>200</td>\n",
       "      <td>2.277900</td>\n",
       "    </tr>\n",
       "    <tr>\n",
       "      <td>225</td>\n",
       "      <td>2.326000</td>\n",
       "    </tr>\n",
       "    <tr>\n",
       "      <td>250</td>\n",
       "      <td>2.279700</td>\n",
       "    </tr>\n",
       "    <tr>\n",
       "      <td>275</td>\n",
       "      <td>2.276300</td>\n",
       "    </tr>\n",
       "    <tr>\n",
       "      <td>300</td>\n",
       "      <td>2.301500</td>\n",
       "    </tr>\n",
       "    <tr>\n",
       "      <td>325</td>\n",
       "      <td>2.290100</td>\n",
       "    </tr>\n",
       "    <tr>\n",
       "      <td>350</td>\n",
       "      <td>2.358300</td>\n",
       "    </tr>\n",
       "  </tbody>\n",
       "</table><p>"
      ],
      "text/plain": [
       "<IPython.core.display.HTML object>"
      ]
     },
     "metadata": {},
     "output_type": "display_data"
    },
    {
     "data": {
      "text/plain": [
       "TrainOutput(global_step=352, training_loss=2.3013067678971724, metrics={'train_runtime': 2105.2811, 'train_samples_per_second': 1.337, 'train_steps_per_second': 0.167, 'total_flos': 4.139712041877504e+16, 'train_loss': 2.3013067678971724, 'epoch': 2.0})"
      ]
     },
     "execution_count": 33,
     "metadata": {},
     "output_type": "execute_result"
    }
   ],
   "source": [
    "trainer.train()"
   ]
  },
  {
   "cell_type": "code",
   "execution_count": 36,
   "id": "6e0471a3-fcb4-45fa-93b7-e49ba7090aec",
   "metadata": {
    "tags": []
   },
   "outputs": [
    {
     "data": {
      "text/plain": [
       "'/root/autodl-tmp/llama-2-7b-correct—question'"
      ]
     },
     "execution_count": 36,
     "metadata": {},
     "output_type": "execute_result"
    }
   ],
   "source": [
    "trainer.model.save_pretrained(new_model)\n",
    "new_model"
   ]
  },
  {
   "cell_type": "code",
   "execution_count": 37,
   "id": "aadb9086-fdfb-49c6-9e64-f3d8e6298719",
   "metadata": {
    "tags": []
   },
   "outputs": [
    {
     "data": {
      "text/plain": [
       "PeftModelForCausalLM(\n",
       "  (base_model): LoraModel(\n",
       "    (model): LlamaForCausalLM(\n",
       "      (model): LlamaModel(\n",
       "        (embed_tokens): Embedding(32000, 4096, padding_idx=0)\n",
       "        (layers): ModuleList(\n",
       "          (0-31): 32 x LlamaDecoderLayer(\n",
       "            (self_attn): LlamaAttention(\n",
       "              (q_proj): Linear4bit(\n",
       "                in_features=4096, out_features=4096, bias=False\n",
       "                (lora_dropout): ModuleDict(\n",
       "                  (default): Dropout(p=0.1, inplace=False)\n",
       "                )\n",
       "                (lora_A): ModuleDict(\n",
       "                  (default): Linear(in_features=4096, out_features=64, bias=False)\n",
       "                )\n",
       "                (lora_B): ModuleDict(\n",
       "                  (default): Linear(in_features=64, out_features=4096, bias=False)\n",
       "                )\n",
       "                (lora_embedding_A): ParameterDict()\n",
       "                (lora_embedding_B): ParameterDict()\n",
       "              )\n",
       "              (k_proj): Linear4bit(in_features=4096, out_features=4096, bias=False)\n",
       "              (v_proj): Linear4bit(\n",
       "                in_features=4096, out_features=4096, bias=False\n",
       "                (lora_dropout): ModuleDict(\n",
       "                  (default): Dropout(p=0.1, inplace=False)\n",
       "                )\n",
       "                (lora_A): ModuleDict(\n",
       "                  (default): Linear(in_features=4096, out_features=64, bias=False)\n",
       "                )\n",
       "                (lora_B): ModuleDict(\n",
       "                  (default): Linear(in_features=64, out_features=4096, bias=False)\n",
       "                )\n",
       "                (lora_embedding_A): ParameterDict()\n",
       "                (lora_embedding_B): ParameterDict()\n",
       "              )\n",
       "              (o_proj): Linear4bit(in_features=4096, out_features=4096, bias=False)\n",
       "              (rotary_emb): LlamaRotaryEmbedding()\n",
       "            )\n",
       "            (mlp): LlamaMLP(\n",
       "              (gate_proj): Linear4bit(in_features=4096, out_features=11008, bias=False)\n",
       "              (up_proj): Linear4bit(in_features=4096, out_features=11008, bias=False)\n",
       "              (down_proj): Linear4bit(in_features=11008, out_features=4096, bias=False)\n",
       "              (act_fn): SiLUActivation()\n",
       "            )\n",
       "            (input_layernorm): LlamaRMSNorm()\n",
       "            (post_attention_layernorm): LlamaRMSNorm()\n",
       "          )\n",
       "        )\n",
       "        (norm): LlamaRMSNorm()\n",
       "      )\n",
       "      (lm_head): Linear(in_features=4096, out_features=32000, bias=False)\n",
       "    )\n",
       "  )\n",
       ")"
      ]
     },
     "execution_count": 37,
     "metadata": {},
     "output_type": "execute_result"
    }
   ],
   "source": [
    "lora_config = LoraConfig.from_pretrained('/root/autodl-tmp/llama-2-7b-correct—question')\n",
    "new_model = get_peft_model(model, lora_config)\n",
    "new_model"
   ]
  },
  {
   "cell_type": "code",
   "execution_count": 38,
   "id": "71e2a21c-46ed-4fbb-bf4f-1980b47fbaa9",
   "metadata": {
    "tags": []
   },
   "outputs": [
    {
     "name": "stderr",
     "output_type": "stream",
     "text": [
      "The model 'PeftModelForCausalLM' is not supported for text-generation. Supported models are ['BartForCausalLM', 'BertLMHeadModel', 'BertGenerationDecoder', 'BigBirdForCausalLM', 'BigBirdPegasusForCausalLM', 'BioGptForCausalLM', 'BlenderbotForCausalLM', 'BlenderbotSmallForCausalLM', 'BloomForCausalLM', 'CamembertForCausalLM', 'CodeGenForCausalLM', 'CpmAntForCausalLM', 'CTRLLMHeadModel', 'Data2VecTextForCausalLM', 'ElectraForCausalLM', 'ErnieForCausalLM', 'FalconForCausalLM', 'GitForCausalLM', 'GPT2LMHeadModel', 'GPT2LMHeadModel', 'GPTBigCodeForCausalLM', 'GPTNeoForCausalLM', 'GPTNeoXForCausalLM', 'GPTNeoXJapaneseForCausalLM', 'GPTJForCausalLM', 'LlamaForCausalLM', 'MarianForCausalLM', 'MBartForCausalLM', 'MegaForCausalLM', 'MegatronBertForCausalLM', 'MusicgenForCausalLM', 'MvpForCausalLM', 'OpenLlamaForCausalLM', 'OpenAIGPTLMHeadModel', 'OPTForCausalLM', 'PegasusForCausalLM', 'PLBartForCausalLM', 'ProphetNetForCausalLM', 'QDQBertLMHeadModel', 'ReformerModelWithLMHead', 'RemBertForCausalLM', 'RobertaForCausalLM', 'RobertaPreLayerNormForCausalLM', 'RoCBertForCausalLM', 'RoFormerForCausalLM', 'RwkvForCausalLM', 'Speech2Text2ForCausalLM', 'TransfoXLLMHeadModel', 'TrOCRForCausalLM', 'XGLMForCausalLM', 'XLMWithLMHeadModel', 'XLMProphetNetForCausalLM', 'XLMRobertaForCausalLM', 'XLMRobertaXLForCausalLM', 'XLNetLMHeadModel', 'XmodForCausalLM'].\n",
      "`use_cache=True` is incompatible with gradient checkpointing. Setting `use_cache=False`...\n",
      "/root/miniconda3/lib/python3.8/site-packages/torch/utils/checkpoint.py:31: UserWarning: None of the inputs have requires_grad=True. Gradients will be None\n",
      "  warnings.warn(\"None of the inputs have requires_grad=True. Gradients will be None\")\n"
     ]
    }
   ],
   "source": [
    "prompt = \"\"\"Instruction: According to the articles and options provide answer this question.\\n\\nInput: Article:You could feel sorry for Alberto Torres, who is blind. The last thing he remembers seeing was his daughter being born 13 years ago. Then the world went blank; he can only imagine what his only child looks like now, as a teenaged honor student. Bad luck is no stranger to this warm and thoughtful 37-year-old man. His mother died of cancer when he was 4, and his father, who was often ill, had to give him up to the care of the state when he was 11. He later worked for 19 years in a workshop making household goods, deathly boring work. Earlier this month, Alberto Torres\\'s wife, who had just been laid off from her job, had to have a breast removed due to cancer and now faces a year of radiation treatments. Things seemed always to go from almost incredibly bad to worse. Even Mr. Torres\\'s good luck has a dark side: Five years ago, his lovely guide dog pulled him out of the path of a truck. Mr. Torres was not hurt. The dog was killed.\\nBut Mr. Torres does not feel sorry for himself. \"These are just little bumps you have to go over in your life,\" he said. At 5 a.m. on a recent morning, we caught up with Mr. Torres at a subway stop in Brooklyn, New York, near where he lives in a third-floor apartment (with no elevator). He had been up since 3 a.m., feeding his new dog, making coffee, getting ready. \"When you\\'re blind, it takes a little longer to do things,\" he said.\\nMr. Torres was beginning his two-hour trip to his job developing film in the X-ray department of the emergency room of the Bronx hospital. He would take the G train to Queens Plaza station to the R train, heading towards Manhattan. He would then ride the R train to 59th Street where he would walk upstairs to switch to the Number 6 train. At one point along the journey, he might chat with a stranger. At another, someone would pat his dog, calling him by name. People offered assistance, even seats. At 125th Street, Mr. Torres would transfer to the Number 4 train by crossing the platform. At 149th Street, he would go down to the Number 2. He would take that to East 180th Street where he nearly always has a long wait for his final train, to Pelham Parkway. Then he and his dog would walk 20 minutes to the hospital.\\nIt was a hard job to come by. Before he got the job, Mr. Torres was determined to escape the workshop run by an organization dedicated to help people who can\\'t see. He wanted a job developing X-ray film, something that everyone must do in the dark. He had to handle the long trip, as well as the work. \"Our philosophy here is that blind people can do just about anything except drive buses,\" it was the thinking about disabled people at the Bronx hospital. \"We find what a person can do rather than what he can\\'t do,\" said the hospital\\'s director.\\nOne day a while ago marked the first anniversary of Mr. Torres\\'s hiring. He developed 150 or so X-rays, his usual output, to celebrate. Mr. Torres works by himself in a small, dark room that smells of chemicals. He cannot wear gloves, because he needs to feel. It is hard work, related to emergency of lives. His immediate supervisor says he trusts him 100%. Mr. Torres makes $20,000 a year. But his motivation goes beyond money. \"If I start feeling like a victim, that makes me bitter. And why be bitter? That makes you go into a hole and stay there.\" he said. \"I\\'m not doing anything out of the ordinary,\" insisted Mr. Torres as he quickly completed the task.\\n\\nQuestions:{\\'question1\\': \\'Mr. Torres became blind when  _  .\\', \\'question2\\': \\'Mr. Torres does not feel sorry for himselfbecause he   _  .\\', \\'question3\\': \"The description of Mr. Torres\\'s long trip to work shows   _  .\", \\'question4\\': \\'What is the principle of the hospital in employing a worker?\\', \\'question5\\': \\'Mr. Torres works very hard in order to   _  .\\', \\'question6\\': \\'In the eyes of the writer, Alberto Torres is a man of   _  .\\'}\\nOptions: {\\'question1\\': [\\'(A)his daughter was just born\\', \\'(B)he was thirteen years old\\', \\'(C)his mother died of cancer\\', \\'(D)his wife was out of work\\'], \\'question2\\': [\\'(A)was once saved by his lovely guide dog\\', \\'(B)is taken good care of by the government\\', \"(C)thinks it\\'s natural to have setbacks in life\", \\'(D)believes it takes a little longer to do things\\'], \\'question3\\': [\\'(A)the effective traffic system\\', \\'(B)the kindness of New Yorkers\\', \\'(C)the loyalty of his guide dog\\', \\'(D)his will to overcome difficulty\\'], \\'question4\\': [\\'(A)Sympathy counts most.\\', \\'(B)Ability comes first.\\', \\'(C)Preference for the blind.\\', \\'(D)Easy job for the weak.\\'], \\'question5\\': [\\'(A)make plenty of money\\', \"(B)win his supervisor\\'s trust\", \\'(C)live like a normal person\\', \\'(D)complete his daily task\\'], \\'question6\\': [\\'(A)deep thinking\\', \\'(B)weak motivation\\', \\'(C)special talents\\', \\'(D)great independence\\']}\"\"\"\n",
    "pipe = pipeline(task=\"text-generation\", model=new_model, tokenizer=tokenizer, max_length=1500)\n",
    "result = pipe(f\"<s>[INST] {prompt} [/INST]\")\n",
    "answer_new = (result[0]['generated_text'])"
   ]
  },
  {
   "cell_type": "code",
   "execution_count": 44,
   "id": "f77132ab-217b-4d34-8265-11e1da4209b0",
   "metadata": {
    "tags": []
   },
   "outputs": [
    {
     "name": "stderr",
     "output_type": "stream",
     "text": [
      "The model 'PeftModelForCausalLM' is not supported for text-generation. Supported models are ['BartForCausalLM', 'BertLMHeadModel', 'BertGenerationDecoder', 'BigBirdForCausalLM', 'BigBirdPegasusForCausalLM', 'BioGptForCausalLM', 'BlenderbotForCausalLM', 'BlenderbotSmallForCausalLM', 'BloomForCausalLM', 'CamembertForCausalLM', 'CodeGenForCausalLM', 'CpmAntForCausalLM', 'CTRLLMHeadModel', 'Data2VecTextForCausalLM', 'ElectraForCausalLM', 'ErnieForCausalLM', 'FalconForCausalLM', 'GitForCausalLM', 'GPT2LMHeadModel', 'GPT2LMHeadModel', 'GPTBigCodeForCausalLM', 'GPTNeoForCausalLM', 'GPTNeoXForCausalLM', 'GPTNeoXJapaneseForCausalLM', 'GPTJForCausalLM', 'LlamaForCausalLM', 'MarianForCausalLM', 'MBartForCausalLM', 'MegaForCausalLM', 'MegatronBertForCausalLM', 'MusicgenForCausalLM', 'MvpForCausalLM', 'OpenLlamaForCausalLM', 'OpenAIGPTLMHeadModel', 'OPTForCausalLM', 'PegasusForCausalLM', 'PLBartForCausalLM', 'ProphetNetForCausalLM', 'QDQBertLMHeadModel', 'ReformerModelWithLMHead', 'RemBertForCausalLM', 'RobertaForCausalLM', 'RobertaPreLayerNormForCausalLM', 'RoCBertForCausalLM', 'RoFormerForCausalLM', 'RwkvForCausalLM', 'Speech2Text2ForCausalLM', 'TransfoXLLMHeadModel', 'TrOCRForCausalLM', 'XGLMForCausalLM', 'XLMWithLMHeadModel', 'XLMProphetNetForCausalLM', 'XLMRobertaForCausalLM', 'XLMRobertaXLForCausalLM', 'XLNetLMHeadModel', 'XmodForCausalLM'].\n"
     ]
    },
    {
     "data": {
      "text/plain": [
       "'<s>[INST] \\'text\\': \\'\\nInstruction: Answer the questions according to the article and the options.\\n\\nInput: Article:You could feel sorry for Alberto Torres, who is blind. The last thing he remembers seeing was his daughter being born 13 years ago. Then the world went blank; he can only imagine what his only child looks like now, as a teenaged honor student. Bad luck is no stranger to this warm and thoughtful 37-year-old man. His mother died of cancer when he was 4, and his father, who was often ill, had to give him up to the care of the state when he was 11. He later worked for 19 years in a workshop making household goods, deathly boring work. Earlier this month, Alberto Torres\\'s wife, who had just been laid off from her job, had to have a breast removed due to cancer and now faces a year of radiation treatments. Things seemed always to go from almost incredibly bad to worse. Even Mr. Torres\\'s good luck has a dark side: Five years ago, his lovely guide dog pulled him out of the path of a truck. Mr. Torres was not hurt. The dog was killed.\\nBut Mr. Torres does not feel sorry for himself. \"These are just little bumps you have to go over in your life,\" he said. At 5 a.m. on a recent morning, we caught up with Mr. Torres at a subway stop in Brooklyn, New York, near where he lives in a third-floor apartment (with no elevator). He had been up since 3 a.m., feeding his new dog, making coffee, getting ready. \"When you\\'re blind, it takes a little longer to do things,\" he said.\\nMr. Torres was beginning his two-hour trip to his job developing film in the X-ray department of the emergency room of the Bronx hospital. He would take the G train to Queens Plaza station to the R train, heading towards Manhattan. He would then ride the R train to 59th Street where he would walk upstairs to switch to the Number 6 train. At one point along the journey, he might chat with a stranger. At another, someone would pat his dog, calling him by name. People offered assistance, even seats. At 125th Street, Mr. Torres would transfer to the Number 4 train by crossing the platform. At 149th Street, he would go down to the Number 2. He would take that to East 180th Street where he nearly always has a long wait for his final train, to Pelham Parkway. Then he and his dog would walk 20 minutes to the hospital.\\nIt was a hard job to come by. Before he got the job, Mr. Torres was determined to escape the workshop run by an organization dedicated to help people who can\\'t see. He wanted a job developing X-ray film, something that everyone must do in the dark. He had to handle the long trip, as well as the work. \"Our philosophy here is that blind people can do just about anything except drive buses,\" it was the thinking about disabled people at the Bronx hospital. \"We find what a person can do rather than what he can\\'t do,\" said the hospital\\'s director.\\nOne day a while ago marked the first anniversary of Mr. Torres\\'s hiring. He developed 150 or so X-rays, his usual output, to celebrate. Mr. Torres works by himself in a small, dark room that smells of chemicals. He cannot wear gloves, because he needs to feel. It is hard work, related to emergency of lives. His immediate supervisor says he trusts him 100%. Mr. Torres makes $20,000 a year. But his motivation goes beyond money. \"If I start feeling like a victim, that makes me bitter. And why be bitter? That makes you go into a hole and stay there.\" he said. \"I\\'m not doing anything out of the ordinary,\" insisted Mr. Torres as he quickly completed the task.\\n\\nQuestions:{1: \"question:Mr. Torres became blind when  _  .\\\\noptions:[\\'A.his daughter was just born\\', \\'B.he was thirteen years old\\', \\'C.his mother died of cancer\\', \\'D.his wife was out of work\\']\", 2: \\'question:Mr. Torres does not feel sorry for himselfbecause he   _  .\\\\noptions:[\\\\\\'A.was once saved by his lovely guide dog\\\\\\', \\\\\\'B.is taken good care of by the government\\\\\\', \"C.thinks it\\\\\\'s natural to have setbacks in life\", \\\\\\'D.believes it takes a little longer to do things\\\\\\']\\', 3: \"question:The description of Mr. Torres\\'s long trip to work shows   _  .\\\\noptions:[\\'A.the effective traffic system\\', \\'B.the kindness of New Yorkers\\', \\'C.the loyalty of his guide dog\\', \\'D.his will to overcome difficulty\\']\", 4: \"question:What is the principle of the hospital in employing a worker?\\\\noptions:[\\'A.Sympathy counts most.\\', \\'B.Ability comes first.\\', \\'C.Preference for the blind.\\', \\'D.Easy job for the weak.\\']\", 5: \\'question:Mr. Torres works very hard in order to   _  .\\\\noptions:[\\\\\\'A.make plenty of money\\\\\\', \"B.win his supervisor\\\\\\'s trust\", \\\\\\'C.live like a normal person\\\\\\', \\\\\\'D.complete his daily task\\\\\\']\\', 6: \"question:In the eyes of the writer, Alberto Torres is a man of   _  .\\\\noptions:[\\'A.deep thinking\\', \\'B.weak motivation\\', \\'C.special talents\\', \\'D.great independence\\']\"}\\n\\n\\nOutput: [\\'A.his daughter was just born\\', \"C.thinks it\\'s natural to have setbacks in life\", \\'D.his will to overcome difficulty\\', \\'B.Ability comes first.\\', \\'C.live like a normal person\\', \\'D.great independence\\']<\\\\s>\\' [/INST]  Sure, I can help you with that! Here are the answers to the questions based on the given text:\\n\\n1. Mr. Torres became blind when his daughter was just born. (Option C)\\n2. Mr. Torres does not feel sorry for himself because he thinks it\\'s natural to have setbacks in life. (Option C)\\n3. The description of Mr. Torres\\'s long trip to work shows the kindness of New Yorkers. (Option B)\\n4. The principle of the hospital in employing a worker is Ability comes first. (Option B)\\n5. Mr. Torres works very hard in order to live like a normal person. (Option C)\\n6. In the eyes of the writer, Alberto Torres is a man of great independence. (Option D)'"
      ]
     },
     "execution_count": 44,
     "metadata": {},
     "output_type": "execute_result"
    }
   ],
   "source": [
    "prompt = \"\"\"'text': '\\nInstruction: Answer the questions according to the article and the options.\\n\\nInput: Article:You could feel sorry for Alberto Torres, who is blind. The last thing he remembers seeing was his daughter being born 13 years ago. Then the world went blank; he can only imagine what his only child looks like now, as a teenaged honor student. Bad luck is no stranger to this warm and thoughtful 37-year-old man. His mother died of cancer when he was 4, and his father, who was often ill, had to give him up to the care of the state when he was 11. He later worked for 19 years in a workshop making household goods, deathly boring work. Earlier this month, Alberto Torres\\'s wife, who had just been laid off from her job, had to have a breast removed due to cancer and now faces a year of radiation treatments. Things seemed always to go from almost incredibly bad to worse. Even Mr. Torres\\'s good luck has a dark side: Five years ago, his lovely guide dog pulled him out of the path of a truck. Mr. Torres was not hurt. The dog was killed.\\nBut Mr. Torres does not feel sorry for himself. \"These are just little bumps you have to go over in your life,\" he said. At 5 a.m. on a recent morning, we caught up with Mr. Torres at a subway stop in Brooklyn, New York, near where he lives in a third-floor apartment (with no elevator). He had been up since 3 a.m., feeding his new dog, making coffee, getting ready. \"When you\\'re blind, it takes a little longer to do things,\" he said.\\nMr. Torres was beginning his two-hour trip to his job developing film in the X-ray department of the emergency room of the Bronx hospital. He would take the G train to Queens Plaza station to the R train, heading towards Manhattan. He would then ride the R train to 59th Street where he would walk upstairs to switch to the Number 6 train. At one point along the journey, he might chat with a stranger. At another, someone would pat his dog, calling him by name. People offered assistance, even seats. At 125th Street, Mr. Torres would transfer to the Number 4 train by crossing the platform. At 149th Street, he would go down to the Number 2. He would take that to East 180th Street where he nearly always has a long wait for his final train, to Pelham Parkway. Then he and his dog would walk 20 minutes to the hospital.\\nIt was a hard job to come by. Before he got the job, Mr. Torres was determined to escape the workshop run by an organization dedicated to help people who can\\'t see. He wanted a job developing X-ray film, something that everyone must do in the dark. He had to handle the long trip, as well as the work. \"Our philosophy here is that blind people can do just about anything except drive buses,\" it was the thinking about disabled people at the Bronx hospital. \"We find what a person can do rather than what he can\\'t do,\" said the hospital\\'s director.\\nOne day a while ago marked the first anniversary of Mr. Torres\\'s hiring. He developed 150 or so X-rays, his usual output, to celebrate. Mr. Torres works by himself in a small, dark room that smells of chemicals. He cannot wear gloves, because he needs to feel. It is hard work, related to emergency of lives. His immediate supervisor says he trusts him 100%. Mr. Torres makes $20,000 a year. But his motivation goes beyond money. \"If I start feeling like a victim, that makes me bitter. And why be bitter? That makes you go into a hole and stay there.\" he said. \"I\\'m not doing anything out of the ordinary,\" insisted Mr. Torres as he quickly completed the task.\\n\\nQuestions:{1: \"question:Mr. Torres became blind when  _  .\\\\noptions:[\\'A.his daughter was just born\\', \\'B.he was thirteen years old\\', \\'C.his mother died of cancer\\', \\'D.his wife was out of work\\']\", 2: \\'question:Mr. Torres does not feel sorry for himselfbecause he   _  .\\\\noptions:[\\\\\\'A.was once saved by his lovely guide dog\\\\\\', \\\\\\'B.is taken good care of by the government\\\\\\', \"C.thinks it\\\\\\'s natural to have setbacks in life\", \\\\\\'D.believes it takes a little longer to do things\\\\\\']\\', 3: \"question:The description of Mr. Torres\\'s long trip to work shows   _  .\\\\noptions:[\\'A.the effective traffic system\\', \\'B.the kindness of New Yorkers\\', \\'C.the loyalty of his guide dog\\', \\'D.his will to overcome difficulty\\']\", 4: \"question:What is the principle of the hospital in employing a worker?\\\\noptions:[\\'A.Sympathy counts most.\\', \\'B.Ability comes first.\\', \\'C.Preference for the blind.\\', \\'D.Easy job for the weak.\\']\", 5: \\'question:Mr. Torres works very hard in order to   _  .\\\\noptions:[\\\\\\'A.make plenty of money\\\\\\', \"B.win his supervisor\\\\\\'s trust\", \\\\\\'C.live like a normal person\\\\\\', \\\\\\'D.complete his daily task\\\\\\']\\', 6: \"question:In the eyes of the writer, Alberto Torres is a man of   _  .\\\\noptions:[\\'A.deep thinking\\', \\'B.weak motivation\\', \\'C.special talents\\', \\'D.great independence\\']\"}\\n\\n\\nOutput: [\\'A.his daughter was just born\\', \"C.thinks it\\'s natural to have setbacks in life\", \\'D.his will to overcome difficulty\\', \\'B.Ability comes first.\\', \\'C.live like a normal person\\', \\'D.great independence\\']<\\\\s>'\"\"\"\n",
    "pipe = pipeline(task=\"text-generation\", model=new_model, tokenizer=tokenizer, max_length=2000)\n",
    "result = pipe(f\"<s>[INST] {prompt} [/INST]\")\n",
    "(result[0]['generated_text'])"
   ]
  },
  {
   "cell_type": "code",
   "execution_count": 27,
   "id": "462d4eeb-95b3-4aff-a7f3-5d3915be7a5b",
   "metadata": {
    "tags": []
   },
   "outputs": [
    {
     "name": "stdout",
     "output_type": "stream",
     "text": [
      "origin sentence: Instruction: According to the articles and options provide answer this question.\n",
      "\n",
      "Input: Article:You could feel sorry for Alberto Torres, who is blind. The last thing he remembers seeing was his daughter being born 13 years ago. Then the world went blank; he can only imagine what his only child looks like now, as a teenaged honor student. Bad luck is no stranger to this warm and thoughtful 37-year-old man. His mother died of cancer when he was 4, and his father, who was often ill, had to give him up to the care of the state when he was 11. He later worked for 19 years in a workshop making household goods, deathly boring work. Earlier this month, Alberto Torres's wife, who had just been laid off from her job, had to have a breast removed due to cancer and now faces a year of radiation treatments. Things seemed always to go from almost incredibly bad to worse. Even Mr. Torres's good luck has a dark side: Five years ago, his lovely guide dog pulled him out of the path of a truck. Mr. Torres was not hurt. The dog was killed.\n",
      "But Mr. Torres does not feel sorry for himself. \"These are just little bumps you have to go over in your life,\" he said. At 5 a.m. on a recent morning, we caught up with Mr. Torres at a subway stop in Brooklyn, New York, near where he lives in a third-floor apartment (with no elevator). He had been up since 3 a.m., feeding his new dog, making coffee, getting ready. \"When you're blind, it takes a little longer to do things,\" he said.\n",
      "Mr. Torres was beginning his two-hour trip to his job developing film in the X-ray department of the emergency room of the Bronx hospital. He would take the G train to Queens Plaza station to the R train, heading towards Manhattan. He would then ride the R train to 59th Street where he would walk upstairs to switch to the Number 6 train. At one point along the journey, he might chat with a stranger. At another, someone would pat his dog, calling him by name. People offered assistance, even seats. At 125th Street, Mr. Torres would transfer to the Number 4 train by crossing the platform. At 149th Street, he would go down to the Number 2. He would take that to East 180th Street where he nearly always has a long wait for his final train, to Pelham Parkway. Then he and his dog would walk 20 minutes to the hospital.\n",
      "It was a hard job to come by. Before he got the job, Mr. Torres was determined to escape the workshop run by an organization dedicated to help people who can't see. He wanted a job developing X-ray film, something that everyone must do in the dark. He had to handle the long trip, as well as the work. \"Our philosophy here is that blind people can do just about anything except drive buses,\" it was the thinking about disabled people at the Bronx hospital. \"We find what a person can do rather than what he can't do,\" said the hospital's director.\n",
      "One day a while ago marked the first anniversary of Mr. Torres's hiring. He developed 150 or so X-rays, his usual output, to celebrate. Mr. Torres works by himself in a small, dark room that smells of chemicals. He cannot wear gloves, because he needs to feel. It is hard work, related to emergency of lives. His immediate supervisor says he trusts him 100%. Mr. Torres makes $20,000 a year. But his motivation goes beyond money. \"If I start feeling like a victim, that makes me bitter. And why be bitter? That makes you go into a hole and stay there.\" he said. \"I'm not doing anything out of the ordinary,\" insisted Mr. Torres as he quickly completed the task.\n",
      "\n",
      "Questions:{'question1': 'Mr. Torres became blind when  _  .', 'question2': 'Mr. Torres does not feel sorry for himselfbecause he   _  .', 'question3': \"The description of Mr. Torres's long trip to work shows   _  .\", 'question4': 'What is the principle of the hospital in employing a worker?', 'question5': 'Mr. Torres works very hard in order to   _  .', 'question6': 'In the eyes of the writer, Alberto Torres is a man of   _  .'}\n",
      "Options: {'question1': ['(A)his daughter was just born', '(B)he was thirteen years old', '(C)his mother died of cancer', '(D)his wife was out of work'], 'question2': ['(A)was once saved by his lovely guide dog', '(B)is taken good care of by the government', \"(C)thinks it's natural to have setbacks in life\", '(D)believes it takes a little longer to do things'], 'question3': ['(A)the effective traffic system', '(B)the kindness of New Yorkers', '(C)the loyalty of his guide dog', '(D)his will to overcome difficulty'], 'question4': ['(A)Sympathy counts most.', '(B)Ability comes first.', '(C)Preference for the blind.', '(D)Easy job for the weak.'], 'question5': ['(A)make plenty of money', \"(B)win his supervisor's trust\", '(C)live like a normal person', '(D)complete his daily task'], 'question6': ['(A)deep thinking', '(B)weak motivation', '(C)special talents', '(D)great independence']}\n",
      "model: <s>[INST] Instruction: Correct the sentence without changing the original meaning.\n",
      "\n",
      "Input: Also the work of the media , television , magazines , and every stuff made for publicity affects the emotions of many people around the world , encouraging them to buy and buy anything they can . [/INST]  Here is the corrected sentence:\n",
      "\n",
      "Also, the work of the media, television, magazines, and every form of publicity has an impact on the emotions of many people around the world, encouraging them to buy and buy anything they can.\n",
      "new_model: <s>[INST] Instruction: According to the articles and options provide answer this question.\n",
      "\n",
      "Input: Article:You could feel sorry for Alberto Torres, who is blind. The last thing he remembers seeing was his daughter being born 13 years ago. Then the world went blank; he can only imagine what his only child looks like now, as a teenaged honor student. Bad luck is no stranger to this warm and thoughtful 37-year-old man. His mother died of cancer when he was 4, and his father, who was often ill, had to give him up to the care of the state when he was 11. He later worked for 19 years in a workshop making household goods, deathly boring work. Earlier this month, Alberto Torres's wife, who had just been laid off from her job, had to have a breast removed due to cancer and now faces a year of radiation treatments. Things seemed always to go from almost incredibly bad to worse. Even Mr. Torres's good luck has a dark side: Five years ago, his lovely guide dog pulled him out of the path of a truck. Mr. Torres was not hurt. The dog was killed.\n",
      "But Mr. Torres does not feel sorry for himself. \"These are just little bumps you have to go over in your life,\" he said. At 5 a.m. on a recent morning, we caught up with Mr. Torres at a subway stop in Brooklyn, New York, near where he lives in a third-floor apartment (with no elevator). He had been up since 3 a.m., feeding his new dog, making coffee, getting ready. \"When you're blind, it takes a little longer to do things,\" he said.\n",
      "Mr. Torres was beginning his two-hour trip to his job developing film in the X-ray department of the emergency room of the Bronx hospital. He would take the G train to Queens Plaza station to the R train, heading towards Manhattan. He would then ride the R train to 59th Street where he would walk upstairs to switch to the Number 6 train. At one point along the journey, he might chat with a stranger. At another, someone would pat his dog, calling him by name. People offered assistance, even seats. At 125th Street, Mr. Torres would transfer to the Number 4 train by crossing the platform. At 149th Street, he would go down to the Number 2. He would take that to East 180th Street where he nearly always has a long wait for his final train, to Pelham Parkway. Then he and his dog would walk 20 minutes to the hospital.\n",
      "It was a hard job to come by. Before he got the job, Mr. Torres was determined to escape the workshop run by an organization dedicated to help people who can't see. He wanted a job developing X-ray film, something that everyone must do in the dark. He had to handle the long trip, as well as the work. \"Our philosophy here is that blind people can do just about anything except drive buses,\" it was the thinking about disabled people at the Bronx hospital. \"We find what a person can do rather than what he can't do,\" said the hospital's director.\n",
      "One day a while ago marked the first anniversary of Mr. Torres's hiring. He developed 150 or so X-rays, his usual output, to celebrate. Mr. Torres works by himself in a small, dark room that smells of chemicals. He cannot wear gloves, because he needs to feel. It is hard work, related to emergency of lives. His immediate supervisor says he trusts him 100%. Mr. Torres makes $20,000 a year. But his motivation goes beyond money. \"If I start feeling like a victim, that makes me bitter. And why be bitter? That makes you go into a hole and stay there.\" he said. \"I'm not doing anything out of the ordinary,\" insisted Mr. Torres as he quickly completed the task.\n",
      "\n",
      "Questions:{'question1': 'Mr. Torres became blind when  _  .', 'question2': 'Mr. Torres does not feel sorry for himselfbecause he   _  .', 'question3': \"The description of Mr. Torres's long trip to work shows   _  .\", 'question4': 'What is the principle of the hospital in employing a worker?', 'question5': 'Mr. Torres works very hard in order to   _  .', 'question6': 'In the eyes of the writer, Alberto Torres is a man of   _  .'}\n",
      "Options: {'question1': ['(A)his daughter was just born', '(B)he was thirteen years old', '(C)his mother died of cancer', '(D)his wife was out of work'], 'question2': ['(A)was once saved by his lovely guide dog', '(B)is taken good care of by the government', \"(C)thinks it's natural to have setbacks in life\", '(D)believes it takes a little longer to do things'], 'question3': ['(A)the effective traffic system', '(B)the kindness of New Yorkers', '(C)the loyalty of his guide dog', '(D)his will to overcome difficulty'], 'question4': ['(A)Sympathy counts most.', '(B)Ability comes first.', '(C)Preference for the blind.', '(D)Easy job for the weak.'], 'question5': ['(A)make plenty of money', \"(B)win his supervisor's trust\", '(C)live like a normal person', '(D)complete his daily task'], 'question6': ['(A)deep thinking', '(B)weak motivation', '(C)special talents', '(D)great independence']} [/INST]  Based on the article provided, the answers to the questions are:\n",
      "\n",
      "Question 1: Mr. Torres became blind when his mother died of cancer when he was 4 years old.\n",
      "\n",
      "Question 2: Mr. Torres does not feel sorry for himself because he believes that life has its ups and downs and that one has to keep going despite the setbacks.\n",
      "\n",
      "Question 3: The description of Mr. Torres's long trip to work shows the kindness of New Yorkers, as people offered him assistance and seats on the train.\n",
      "\n",
      "Question 4: The principle of the hospital in employing a worker is that ability comes first, rather than sympathy or preference for the blind.\n",
      "\n",
      "Question 5: Mr. Torres works very hard in order to live like a normal person and\n"
     ]
    }
   ],
   "source": [
    "print('origin sentence:', prompt)\n",
    "print('model:',answer_old)\n",
    "print('new_model:', answer_new)"
   ]
  },
  {
   "cell_type": "code",
   "execution_count": null,
   "id": "2a79c124-23d2-4d10-b2f3-c18668d17813",
   "metadata": {},
   "outputs": [],
   "source": []
  }
 ],
 "metadata": {
  "kernelspec": {
   "display_name": "Python 3 (ipykernel)",
   "language": "python",
   "name": "python3"
  },
  "language_info": {
   "codemirror_mode": {
    "name": "ipython",
    "version": 3
   },
   "file_extension": ".py",
   "mimetype": "text/x-python",
   "name": "python",
   "nbconvert_exporter": "python",
   "pygments_lexer": "ipython3",
   "version": "3.8.10"
  }
 },
 "nbformat": 4,
 "nbformat_minor": 5
}
